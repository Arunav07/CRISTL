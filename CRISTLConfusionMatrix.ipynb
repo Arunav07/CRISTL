{
  "nbformat": 4,
  "nbformat_minor": 0,
  "metadata": {
    "colab": {
      "provenance": [],
      "authorship_tag": "ABX9TyPTWfzSUZckq9Lz31TR4ZDG",
      "include_colab_link": true
    },
    "kernelspec": {
      "name": "python3",
      "display_name": "Python 3"
    },
    "language_info": {
      "name": "python"
    }
  },
  "cells": [
    {
      "cell_type": "markdown",
      "metadata": {
        "id": "view-in-github",
        "colab_type": "text"
      },
      "source": [
        "<a href=\"https://colab.research.google.com/github/Arunav07/CRISTL-Project-1/blob/Anuja's-branch/CRISTLConfusionMatrix.ipynb\" target=\"_parent\"><img src=\"https://colab.research.google.com/assets/colab-badge.svg\" alt=\"Open In Colab\"/></a>"
      ]
    },
    {
      "cell_type": "code",
      "execution_count": 2,
      "metadata": {
        "colab": {
          "base_uri": "https://localhost:8080/"
        },
        "id": "SLbT9x8-BcJd",
        "outputId": "a9315d22-c18f-469a-acd7-c9890b31fe3d"
      },
      "outputs": [
        {
          "output_type": "stream",
          "name": "stdout",
          "text": [
            "Mounted at /content/gdrive\n"
          ]
        }
      ],
      "source": [
        "from google.colab import drive\n",
        "drive.mount(\"/content/gdrive\")"
      ]
    },
    {
      "cell_type": "code",
      "source": [
        "import math\n",
        "from sklearn.metrics import classification_report, confusion_matrix\n",
        "from sklearn.metrics import multilabel_confusion_matrix\n",
        "import tensorflow as tf\n",
        "import pandas as pd"
      ],
      "metadata": {
        "id": "PaMx3trvBgqT"
      },
      "execution_count": 3,
      "outputs": []
    },
    {
      "cell_type": "code",
      "source": [
        "Y_actual = pd.read_csv(\"/content/gdrive/MyDrive/IDD_Detection/ActualTestVals.csv\")"
      ],
      "metadata": {
        "id": "2srFRVaVBmZ4"
      },
      "execution_count": 4,
      "outputs": []
    },
    {
      "cell_type": "code",
      "source": [
        "Y_pred = pd.read_csv(\"/content/gdrive/MyDrive/IDD_Detection/PredictedTestVals.csv\")"
      ],
      "metadata": {
        "id": "qZW90seZDS05"
      },
      "execution_count": 5,
      "outputs": []
    },
    {
      "cell_type": "code",
      "source": [
        "#print(Y_actual.values.argmax(axis=1))"
      ],
      "metadata": {
        "id": "DQsmxViUEsAa"
      },
      "execution_count": 6,
      "outputs": []
    },
    {
      "cell_type": "code",
      "source": [
        "#print(Y_actual.values)"
      ],
      "metadata": {
        "id": "YbetwS0fGDbl"
      },
      "execution_count": null,
      "outputs": []
    },
    {
      "cell_type": "code",
      "source": [
        "#print(Y_pred.values)"
      ],
      "metadata": {
        "id": "6VQwHvc_G3ky"
      },
      "execution_count": null,
      "outputs": []
    },
    {
      "cell_type": "code",
      "source": [
        "print('Samplewise Confusion Matrix')\n",
        "print(multilabel_confusion_matrix(Y_actual.values, Y_pred.values, samplewise=True))"
      ],
      "metadata": {
        "colab": {
          "base_uri": "https://localhost:8080/"
        },
        "id": "VxZbcFPPFiiG",
        "outputId": "306743f0-6d08-4d65-a897-79189b01dbab"
      },
      "execution_count": 7,
      "outputs": [
        {
          "output_type": "stream",
          "name": "stdout",
          "text": [
            "Samplewise Confusion Matrix\n",
            "[[[2 4]\n",
            "  [2 1]]\n",
            "\n",
            " [[4 0]\n",
            "  [0 5]]\n",
            "\n",
            " [[3 0]\n",
            "  [1 5]]\n",
            "\n",
            " [[3 3]\n",
            "  [1 2]]\n",
            "\n",
            " [[3 0]\n",
            "  [1 5]]\n",
            "\n",
            " [[4 0]\n",
            "  [0 5]]\n",
            "\n",
            " [[3 0]\n",
            "  [1 5]]\n",
            "\n",
            " [[3 1]\n",
            "  [1 4]]\n",
            "\n",
            " [[3 1]\n",
            "  [1 4]]\n",
            "\n",
            " [[4 1]\n",
            "  [1 3]]]\n"
          ]
        }
      ]
    },
    {
      "cell_type": "code",
      "source": [
        "type(Y_pred)"
      ],
      "metadata": {
        "colab": {
          "base_uri": "https://localhost:8080/"
        },
        "id": "cmxkM31cabfl",
        "outputId": "f189739d-c654-4059-ce90-08b568bc25e0"
      },
      "execution_count": 10,
      "outputs": [
        {
          "output_type": "execute_result",
          "data": {
            "text/plain": [
              "pandas.core.frame.DataFrame"
            ]
          },
          "metadata": {},
          "execution_count": 10
        }
      ]
    },
    {
      "cell_type": "code",
      "source": [
        "print('Classwise Confusion Matrix')\n",
        "print(multilabel_confusion_matrix(Y_actual.values, Y_pred.values ))\n",
        "#TN FP FN TP"
      ],
      "metadata": {
        "id": "6ZhNN473DYbX",
        "colab": {
          "base_uri": "https://localhost:8080/"
        },
        "outputId": "a4c98805-d779-4e7a-df99-1d485ce3e3b0"
      },
      "execution_count": 13,
      "outputs": [
        {
          "output_type": "stream",
          "name": "stdout",
          "text": [
            "Classwise Confusion Matrix\n",
            "[[[ 8  2]\n",
            "  [ 0  0]]\n",
            "\n",
            " [[ 6  0]\n",
            "  [ 2  2]]\n",
            "\n",
            " [[ 1  2]\n",
            "  [ 2  5]]\n",
            "\n",
            " [[ 0  0]\n",
            "  [ 0 10]]\n",
            "\n",
            " [[ 0  2]\n",
            "  [ 0  8]]\n",
            "\n",
            " [[ 0  2]\n",
            "  [ 0  8]]\n",
            "\n",
            " [[ 2  2]\n",
            "  [ 5  1]]\n",
            "\n",
            " [[10  0]\n",
            "  [ 0  0]]\n",
            "\n",
            " [[ 5  0]\n",
            "  [ 0  5]]]\n"
          ]
        }
      ]
    },
    {
      "cell_type": "code",
      "source": [
        "print('Classification Report')\n",
        "target_names = ['truck',\t'person',\t'autorickshaw',\t'car'\t,'motorcycle',\t'rider',\t'bus'\t,'bicycle',\t'vehicle_fallback']\n",
        "print(classification_report(Y_actual, Y_pred, target_names=target_names))"
      ],
      "metadata": {
        "colab": {
          "base_uri": "https://localhost:8080/"
        },
        "id": "jV6cOQeOEERn",
        "outputId": "f7c0b0d8-c3ef-4793-e7c6-c343d4a50a9e"
      },
      "execution_count": 9,
      "outputs": [
        {
          "output_type": "stream",
          "name": "stdout",
          "text": [
            "Classification Report\n",
            "                  precision    recall  f1-score   support\n",
            "\n",
            "           truck       0.00      0.00      0.00         0\n",
            "          person       1.00      0.50      0.67         4\n",
            "    autorickshaw       0.71      0.71      0.71         7\n",
            "             car       1.00      1.00      1.00        10\n",
            "      motorcycle       0.80      1.00      0.89         8\n",
            "           rider       0.80      1.00      0.89         8\n",
            "             bus       0.33      0.17      0.22         6\n",
            "         bicycle       0.00      0.00      0.00         0\n",
            "vehicle_fallback       1.00      1.00      1.00         5\n",
            "\n",
            "       micro avg       0.80      0.81      0.80        48\n",
            "       macro avg       0.63      0.60      0.60        48\n",
            "    weighted avg       0.81      0.81      0.80        48\n",
            "     samples avg       0.79      0.78      0.78        48\n",
            "\n"
          ]
        },
        {
          "output_type": "stream",
          "name": "stderr",
          "text": [
            "/usr/local/lib/python3.7/dist-packages/sklearn/metrics/_classification.py:1318: UndefinedMetricWarning: Precision and F-score are ill-defined and being set to 0.0 in labels with no predicted samples. Use `zero_division` parameter to control this behavior.\n",
            "  _warn_prf(average, modifier, msg_start, len(result))\n",
            "/usr/local/lib/python3.7/dist-packages/sklearn/metrics/_classification.py:1318: UndefinedMetricWarning: Recall and F-score are ill-defined and being set to 0.0 in labels with no true samples. Use `zero_division` parameter to control this behavior.\n",
            "  _warn_prf(average, modifier, msg_start, len(result))\n"
          ]
        }
      ]
    }
  ]
}