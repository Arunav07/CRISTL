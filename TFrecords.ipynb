{
  "nbformat": 4,
  "nbformat_minor": 0,
  "metadata": {
    "colab": {
      "name": "Untitled4.ipynb",
      "provenance": [],
      "collapsed_sections": [],
      "authorship_tag": "ABX9TyNucuSZzNmiTDzeJ5fiJjSX"
    },
    "kernelspec": {
      "name": "python3",
      "display_name": "Python 3"
    },
    "language_info": {
      "name": "python"
    }
  },
  "cells": [
    {
      "cell_type": "code",
      "metadata": {
        "colab": {
          "base_uri": "https://localhost:8080/"
        },
        "id": "WjKcz-oasM3q",
        "outputId": "8698db1c-ef5a-4306-d82f-c99507fe6a8a"
      },
      "source": [
        "pip install tensorflow-estimator==2.1.0"
      ],
      "execution_count": null,
      "outputs": [
        {
          "output_type": "stream",
          "name": "stdout",
          "text": [
            "Collecting tensorflow-estimator==2.1.0\n",
            "  Downloading tensorflow_estimator-2.1.0-py2.py3-none-any.whl (448 kB)\n",
            "\u001b[?25l\r\u001b[K     |▊                               | 10 kB 22.3 MB/s eta 0:00:01\r\u001b[K     |█▌                              | 20 kB 25.8 MB/s eta 0:00:01\r\u001b[K     |██▏                             | 30 kB 12.5 MB/s eta 0:00:01\r\u001b[K     |███                             | 40 kB 9.6 MB/s eta 0:00:01\r\u001b[K     |███▋                            | 51 kB 5.2 MB/s eta 0:00:01\r\u001b[K     |████▍                           | 61 kB 5.8 MB/s eta 0:00:01\r\u001b[K     |█████                           | 71 kB 5.5 MB/s eta 0:00:01\r\u001b[K     |█████▉                          | 81 kB 6.1 MB/s eta 0:00:01\r\u001b[K     |██████▋                         | 92 kB 4.7 MB/s eta 0:00:01\r\u001b[K     |███████▎                        | 102 kB 5.1 MB/s eta 0:00:01\r\u001b[K     |████████                        | 112 kB 5.1 MB/s eta 0:00:01\r\u001b[K     |████████▊                       | 122 kB 5.1 MB/s eta 0:00:01\r\u001b[K     |█████████▌                      | 133 kB 5.1 MB/s eta 0:00:01\r\u001b[K     |██████████▏                     | 143 kB 5.1 MB/s eta 0:00:01\r\u001b[K     |███████████                     | 153 kB 5.1 MB/s eta 0:00:01\r\u001b[K     |███████████▊                    | 163 kB 5.1 MB/s eta 0:00:01\r\u001b[K     |████████████▍                   | 174 kB 5.1 MB/s eta 0:00:01\r\u001b[K     |█████████████▏                  | 184 kB 5.1 MB/s eta 0:00:01\r\u001b[K     |█████████████▉                  | 194 kB 5.1 MB/s eta 0:00:01\r\u001b[K     |██████████████▋                 | 204 kB 5.1 MB/s eta 0:00:01\r\u001b[K     |███████████████▎                | 215 kB 5.1 MB/s eta 0:00:01\r\u001b[K     |████████████████                | 225 kB 5.1 MB/s eta 0:00:01\r\u001b[K     |████████████████▉               | 235 kB 5.1 MB/s eta 0:00:01\r\u001b[K     |█████████████████▌              | 245 kB 5.1 MB/s eta 0:00:01\r\u001b[K     |██████████████████▎             | 256 kB 5.1 MB/s eta 0:00:01\r\u001b[K     |███████████████████             | 266 kB 5.1 MB/s eta 0:00:01\r\u001b[K     |███████████████████▊            | 276 kB 5.1 MB/s eta 0:00:01\r\u001b[K     |████████████████████▍           | 286 kB 5.1 MB/s eta 0:00:01\r\u001b[K     |█████████████████████▏          | 296 kB 5.1 MB/s eta 0:00:01\r\u001b[K     |██████████████████████          | 307 kB 5.1 MB/s eta 0:00:01\r\u001b[K     |██████████████████████▋         | 317 kB 5.1 MB/s eta 0:00:01\r\u001b[K     |███████████████████████▍        | 327 kB 5.1 MB/s eta 0:00:01\r\u001b[K     |████████████████████████        | 337 kB 5.1 MB/s eta 0:00:01\r\u001b[K     |████████████████████████▉       | 348 kB 5.1 MB/s eta 0:00:01\r\u001b[K     |█████████████████████████▌      | 358 kB 5.1 MB/s eta 0:00:01\r\u001b[K     |██████████████████████████▎     | 368 kB 5.1 MB/s eta 0:00:01\r\u001b[K     |███████████████████████████     | 378 kB 5.1 MB/s eta 0:00:01\r\u001b[K     |███████████████████████████▊    | 389 kB 5.1 MB/s eta 0:00:01\r\u001b[K     |████████████████████████████▌   | 399 kB 5.1 MB/s eta 0:00:01\r\u001b[K     |█████████████████████████████▏  | 409 kB 5.1 MB/s eta 0:00:01\r\u001b[K     |██████████████████████████████  | 419 kB 5.1 MB/s eta 0:00:01\r\u001b[K     |██████████████████████████████▋ | 430 kB 5.1 MB/s eta 0:00:01\r\u001b[K     |███████████████████████████████▍| 440 kB 5.1 MB/s eta 0:00:01\r\u001b[K     |████████████████████████████████| 448 kB 5.1 MB/s \n",
            "\u001b[?25hInstalling collected packages: tensorflow-estimator\n",
            "  Attempting uninstall: tensorflow-estimator\n",
            "    Found existing installation: tensorflow-estimator 2.6.0\n",
            "    Uninstalling tensorflow-estimator-2.6.0:\n",
            "      Successfully uninstalled tensorflow-estimator-2.6.0\n",
            "\u001b[31mERROR: pip's dependency resolver does not currently take into account all the packages that are installed. This behaviour is the source of the following dependency conflicts.\n",
            "tensorflow 2.6.0 requires tensorflow-estimator~=2.6, but you have tensorflow-estimator 2.1.0 which is incompatible.\u001b[0m\n",
            "Successfully installed tensorflow-estimator-2.1.0\n"
          ]
        }
      ]
    },
    {
      "cell_type": "code",
      "metadata": {
        "colab": {
          "base_uri": "https://localhost:8080/"
        },
        "id": "nYPjWJDiseqw",
        "outputId": "8fe5aa9c-6a96-47a5-9f37-9c5c4a636b95"
      },
      "source": [
        "pip install tensorflow-estimator==2.1.*"
      ],
      "execution_count": null,
      "outputs": [
        {
          "output_type": "stream",
          "name": "stdout",
          "text": [
            "Requirement already satisfied: tensorflow-estimator==2.1.* in /usr/local/lib/python3.7/dist-packages (2.1.0)\n"
          ]
        }
      ]
    },
    {
      "cell_type": "code",
      "metadata": {
        "colab": {
          "base_uri": "https://localhost:8080/"
        },
        "id": "BssXXcgm3seJ",
        "outputId": "b0a90ae2-c978-4b68-9e4a-69b4caacb139"
      },
      "source": [
        "from google.colab import drive\n",
        "drive.mount(\"/content/gdrive\") "
      ],
      "execution_count": null,
      "outputs": [
        {
          "output_type": "stream",
          "name": "stdout",
          "text": [
            "Mounted at /content/gdrive\n"
          ]
        }
      ]
    },
    {
      "cell_type": "code",
      "metadata": {
        "colab": {
          "base_uri": "https://localhost:8080/",
          "height": 380
        },
        "id": "Xn-U7rxtHQBk",
        "outputId": "e71f0346-093c-4987-a687-787e7914016d"
      },
      "source": [
        "import os\n",
        "import glob\n",
        "import tensorflow as tf\n",
        "from matplotlib import pyplot as plt\n",
        "from apiclient import errors\n",
        "\n",
        "\n",
        "def read_and_decode_file(filename_queue):\n",
        "\n",
        "    # Create an instance of tf record reader\n",
        "    reader = tf.TFRecordReader()\n",
        "\n",
        "    # Read the generated filename queue\n",
        "    _, serialized_reader = reader.read(filename_queue)\n",
        "\n",
        "    # extract the features you require from the tfrecord using their corresponding key\n",
        "    # In my example, all images were written with 'image' key\n",
        "    features = tf.parse_single_example(\n",
        "        serialized_reader, features={\n",
        "            'image': tf.io.FixedLenFeature([], tf.string),\n",
        "            'labels': tf.io.FixedLenFeature([], tf.int16)\n",
        "        })\n",
        "\n",
        "\n",
        "    # Extract the set of images as shown below\n",
        "    img = features['image']\n",
        "    img_out = tf.image.resize_image_with_crop_or_pad(img, target_height=128, target_width=128)\n",
        "\n",
        "    # Similarly extract the labels, be careful with the type\n",
        "    label = features['labels']\n",
        "\n",
        "    return img_out, label\n",
        "\n",
        "if __name__ == \"__main__\":\n",
        "\n",
        "  tf.compat.v1.reset_default_graph()\n",
        "\n",
        "  # Path to your tfrecords\n",
        "  path_to_tf_records =  tf.io.TFRecordWriter('/content/gdrive/MyDrive/Project/IDD_Detection/JPEGImages/frontFar/BLR-2018-03-22_17-39-26_2_frontFar/000006_r.jpg')\n",
        "\n",
        "  # Collect all tfrecords present in the records folder using glob\n",
        "  list_of_tfrecords = sorted(glob.glob(path_to_tf_records))\n",
        "  print(list_of_tfrecords)\n",
        "  # Generate a tensorflow readable filename queue by supplying it with\n",
        "  # a list of tfrecords, optionally it is recommended to shuffle your data\n",
        "  # before feeding into the network\n",
        "  filename_queue = tf.compat.v1.train.string_input_producer(list_of_tfrecords, shuffle=False)\n",
        "  # Supply the tensorflow generated filename queue to the custom function above\n",
        "  image, label = read_and_decode_file(filename_queue)\n",
        "\n",
        "  # Create a new tf session to read the data\n",
        "  sess = tf.Session()\n",
        "  tf.train.start_queue_runners(sess=sess)\n",
        "\n",
        "  # Arbitrary number of iterations\n",
        "  for i in range(50):\n",
        "    img =sess.run(image)\n",
        "    # Show image\n",
        "    plt.imshow(img)"
      ],
      "execution_count": null,
      "outputs": [
        {
          "output_type": "error",
          "ename": "PermissionDeniedError",
          "evalue": "ignored",
          "traceback": [
            "\u001b[0;31m---------------------------------------------------------------------------\u001b[0m",
            "\u001b[0;31mPermissionDeniedError\u001b[0m                     Traceback (most recent call last)",
            "\u001b[0;32m<ipython-input-51-8434aae48f15>\u001b[0m in \u001b[0;36m<module>\u001b[0;34m()\u001b[0m\n\u001b[1;32m     37\u001b[0m \u001b[0;34m\u001b[0m\u001b[0m\n\u001b[1;32m     38\u001b[0m   \u001b[0;31m# Path to your tfrecords\u001b[0m\u001b[0;34m\u001b[0m\u001b[0;34m\u001b[0m\u001b[0;34m\u001b[0m\u001b[0m\n\u001b[0;32m---> 39\u001b[0;31m   \u001b[0mpath_to_tf_records\u001b[0m \u001b[0;34m=\u001b[0m  \u001b[0mtf\u001b[0m\u001b[0;34m.\u001b[0m\u001b[0mio\u001b[0m\u001b[0;34m.\u001b[0m\u001b[0mTFRecordWriter\u001b[0m\u001b[0;34m(\u001b[0m\u001b[0;34m'/content/gdrive/MyDrive/Project/IDD_Detection/JPEGImages/frontFar/BLR-2018-03-22_17-39-26_2_frontFar/000006_r.jpg'\u001b[0m\u001b[0;34m)\u001b[0m\u001b[0;34m\u001b[0m\u001b[0;34m\u001b[0m\u001b[0m\n\u001b[0m\u001b[1;32m     40\u001b[0m \u001b[0;34m\u001b[0m\u001b[0m\n\u001b[1;32m     41\u001b[0m   \u001b[0;31m# Collect all tfrecords present in the records folder using glob\u001b[0m\u001b[0;34m\u001b[0m\u001b[0;34m\u001b[0m\u001b[0;34m\u001b[0m\u001b[0m\n",
            "\u001b[0;32m/usr/local/lib/python3.7/dist-packages/tensorflow/python/lib/io/tf_record.py\u001b[0m in \u001b[0;36m__init__\u001b[0;34m(self, path, options)\u001b[0m\n\u001b[1;32m    297\u001b[0m     \u001b[0;31m# pylint: disable=protected-access\u001b[0m\u001b[0;34m\u001b[0m\u001b[0;34m\u001b[0m\u001b[0;34m\u001b[0m\u001b[0m\n\u001b[1;32m    298\u001b[0m     super(TFRecordWriter, self).__init__(\n\u001b[0;32m--> 299\u001b[0;31m         compat.as_bytes(path), options._as_record_writer_options())\n\u001b[0m\u001b[1;32m    300\u001b[0m     \u001b[0;31m# pylint: enable=protected-access\u001b[0m\u001b[0;34m\u001b[0m\u001b[0;34m\u001b[0m\u001b[0;34m\u001b[0m\u001b[0m\n\u001b[1;32m    301\u001b[0m \u001b[0;34m\u001b[0m\u001b[0m\n",
            "\u001b[0;31mPermissionDeniedError\u001b[0m: /content/gdrive/MyDrive/Project/IDD_Detection/JPEGImages/frontFar/BLR-2018-03-22_17-39-26_2_frontFar/000006_r.jpg; Operation not permitted"
          ]
        }
      ]
    },
    {
      "cell_type": "code",
      "metadata": {
        "id": "3omP8Z3q287i"
      },
      "source": [
        "/content/gdrive/MyDrive/Project/IDD_Detection/JPEGImages/frontFar/BLR-2018-03-22_17-39-26_2_frontFar/000006_r.jpg"
      ],
      "execution_count": null,
      "outputs": []
    }
  ]
}