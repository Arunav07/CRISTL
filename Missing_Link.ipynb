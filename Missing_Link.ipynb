{
  "nbformat": 4,
  "nbformat_minor": 0,
  "metadata": {
    "colab": {
      "name": "Missing_Link.ipynb",
      "provenance": [],
      "authorship_tag": "ABX9TyP7M/8nIP+rUtHxX4CqMPrY",
      "include_colab_link": true
    },
    "kernelspec": {
      "name": "python3",
      "display_name": "Python 3"
    },
    "language_info": {
      "name": "python"
    }
  },
  "cells": [
    {
      "cell_type": "markdown",
      "metadata": {
        "id": "view-in-github",
        "colab_type": "text"
      },
      "source": [
        "<a href=\"https://colab.research.google.com/github/Arunav07/CRISTL-Project-1/blob/Atharva_D's-Branch/Missing_Link.ipynb\" target=\"_parent\"><img src=\"https://colab.research.google.com/assets/colab-badge.svg\" alt=\"Open In Colab\"/></a>"
      ]
    },
    {
      "cell_type": "code",
      "metadata": {
        "colab": {
          "base_uri": "https://localhost:8080/"
        },
        "id": "cOEi2HUq4ChC",
        "outputId": "01b9c565-7633-4a00-ccce-2b5533eb734f"
      },
      "source": [
        "from google.colab import drive\n",
        "drive.mount(\"/content/gdrive\")"
      ],
      "execution_count": 2,
      "outputs": [
        {
          "output_type": "stream",
          "name": "stdout",
          "text": [
            "Mounted at /content/gdrive\n"
          ]
        }
      ]
    },
    {
      "cell_type": "code",
      "metadata": {
        "id": "yXjTVpTA4lHC"
      },
      "source": [
        "import glob\n",
        "import natsort\n",
        "import numpy as np\n",
        "import pandas as pd\n",
        "import tensorflow as tf\n",
        "from PIL import Image\n",
        "import xml.etree.ElementTree as ET\n",
        "import csv"
      ],
      "execution_count": 6,
      "outputs": []
    },
    {
      "cell_type": "code",
      "metadata": {
        "colab": {
          "base_uri": "https://localhost:8080/"
        },
        "id": "eJVJDivz8mT-",
        "outputId": "8f3f9f26-7854-41d1-efb4-1bba9ada47a9"
      },
      "source": [
        "Labels=[]\n",
        "print(Labels)"
      ],
      "execution_count": 32,
      "outputs": [
        {
          "output_type": "stream",
          "name": "stdout",
          "text": [
            "[]\n"
          ]
        }
      ]
    },
    {
      "cell_type": "code",
      "metadata": {
        "id": "1gFdyZX16fpV"
      },
      "source": [
        "f = open('/content/gdrive/My Drive/IDD_Detection/Annotations/frontFar/BLR-2018-03-22_17-39-26_2_frontFar/000006_r.xml') \n",
        "root = ET.parse(f)\n",
        "\n",
        "# Create and open csv\n",
        "xml_data_to_csv = open('Out.csv','w')\n",
        "\n",
        "# Create the variable to write the csv\n",
        "csv_writer = csv.writer(xml_data_to_csv)\n",
        "\n",
        "# creating the columns for the table\n",
        "Table = []\n",
        "Table.append([('Labels'),('Co-ordinates')])\n",
        "for obj in root.findall('object'):\n",
        "    bndbox: ET.Element = obj.find('bndbox')\n",
        "    name = obj.find('name').text\n",
        "    xmin, xmax, ymin, ymax = [int(bndbox.find(x).text) for x in ['xmin', 'xmax', 'ymin', 'ymax']]\n",
        "    coords = [(x, y) for x in [xmin, xmax] for y in [ymin, ymax]]\n",
        "    Table.append([(name),(coords)])\n",
        "\n",
        "# adding too csv\n",
        "csv_writer.writerows(Table)\n",
        "\n",
        "# close the csv file\n",
        "xml_data_to_csv.close()      \n",
        "  \n",
        "# close the .xml file\n",
        "f.close()\n",
        "la=pd.read_csv(\"Out.csv\")\n",
        "lab=la.Labels.values\n",
        "labe=tuple(lab)\n",
        "Labels.append(labe)"
      ],
      "execution_count": 34,
      "outputs": []
    },
    {
      "cell_type": "code",
      "metadata": {
        "colab": {
          "base_uri": "https://localhost:8080/"
        },
        "id": "Z50aRdlS-8w1",
        "outputId": "c733cd5e-1ae0-4505-9245-f727d3976517"
      },
      "source": [
        "print(Labels)"
      ],
      "execution_count": 35,
      "outputs": [
        {
          "output_type": "stream",
          "name": "stdout",
          "text": [
            "[('truck', 'person', 'autorickshaw', 'person', 'car')]\n"
          ]
        }
      ]
    },
    {
      "cell_type": "code",
      "metadata": {
        "id": "IG3Oi3_k6uA0"
      },
      "source": [
        "\n",
        "# la=pd.read_csv(\"Out.csv\")\n",
        "# lab=la.Labels.values\n",
        "# #print(lab)\n",
        "# labe=tuple(lab)\n",
        "# #print(labe)\n",
        "# Labels_array.append(labe)\n",
        "# print(Labels_array,len(Labels_array))"
      ],
      "execution_count": 17,
      "outputs": []
    },
    {
      "cell_type": "code",
      "metadata": {
        "id": "FEXc8CoJ8RWP"
      },
      "source": [
        "\n",
        "count = 0\n",
        "for i in range(6,17400,6):\n",
        "  try:\n",
        "    count += 1\n",
        "    annot_path = '/content/gdrive/My Drive/IDD_Detection/Annotations/frontFar/BLR-2018-03-22_17-39-26_2_frontFar/'\n",
        "    path_name = annot_path + str(i).zfill(6) + \"_r.xml\"\n",
        "    f = open(path_name) \n",
        "    root = ET.parse(f)\n",
        "\n",
        "    # Create and open csv\n",
        "    xml_data_to_csv = open('Out.csv','w')\n",
        "\n",
        "    # Create the variable to write the csv\n",
        "    csv_writer = csv.writer(xml_data_to_csv)\n",
        "\n",
        "    # creating the columns for the table\n",
        "    Table = []\n",
        "    Table.append([('Labels'),('Co-ordinates')])\n",
        "\n",
        "    for obj in root.findall('object'):\n",
        "        bndbox: ET.Element = obj.find('bndbox')\n",
        "        name = obj.find('name').text\n",
        "        xmin, xmax, ymin, ymax = [int(bndbox.find(x).text) for x in ['xmin', 'xmax', 'ymin', 'ymax']]\n",
        "        coords = [(x, y) for x in [xmin, xmax] for y in [ymin, ymax]]\n",
        "        Table.append([(name),(coords)])\n",
        "\n",
        "    # adding too csv\n",
        "    csv_writer.writerows(Table)\n",
        "\n",
        "    # close the csv file\n",
        "    xml_data_to_csv.close()      \n",
        "  \n",
        "    # close the .xml file\n",
        "    f.close()\n",
        "    la=pd.read_csv(\"Out.csv\")\n",
        "    lab=la.Labels.values\n",
        "    labe=tuple(lab)\n",
        "    Labels.append(labe)\n",
        "\n",
        "  except FileNotFoundError:\n",
        "    continue\n",
        "\n",
        "    \n"
      ],
      "execution_count": 37,
      "outputs": []
    },
    {
      "cell_type": "code",
      "metadata": {
        "colab": {
          "base_uri": "https://localhost:8080/"
        },
        "id": "6SzZpn2t_P2K",
        "outputId": "87d0c4a6-40de-4199-beed-7111810052be"
      },
      "source": [
        "print(Labels)\n",
        "print(len(Labels))"
      ],
      "execution_count": 41,
      "outputs": [
        {
          "output_type": "stream",
          "name": "stdout",
          "text": [
            "[('truck', 'person', 'autorickshaw', 'person', 'car'), ('truck', 'person', 'autorickshaw', 'person', 'car'), ('truck', 'truck', 'autorickshaw', 'person', 'person'), ('truck', 'truck'), ('truck', 'truck', 'autorickshaw'), ('truck', 'autorickshaw', 'truck'), ('truck', 'truck'), ('truck', 'truck', 'person', 'autorickshaw'), ('truck', 'truck', 'autorickshaw', 'person'), ('truck', 'truck', 'autorickshaw', 'person'), ('motorcycle', 'rider', 'autorickshaw', 'truck', 'person', 'person'), ('person', 'person', 'motorcycle', 'rider', 'truck', 'autorickshaw', 'person'), ('motorcycle', 'rider', 'truck', 'person', 'person', 'person'), ('motorcycle', 'rider'), ('motorcycle', 'rider'), ('bus',), ('bus',), ('autorickshaw', 'car', 'bus', 'bicycle', 'rider'), ('autorickshaw', 'bus', 'bicycle', 'rider', 'vehicle fallback'), ('autorickshaw', 'vehicle fallback', 'bus'), ('autorickshaw', 'vehicle fallback', 'bicycle', 'rider'), ('autorickshaw', 'vehicle fallback', 'bicycle', 'rider'), ('vehicle fallback', 'motorcycle', 'rider', 'bicycle', 'rider', 'autorickshaw', 'motorcycle', 'rider'), ('vehicle fallback', 'motorcycle', 'vehicle fallback', 'bicycle', 'rider', 'motorcycle', 'rider', 'rider', 'autorickshaw'), ('vehicle fallback', 'motorcycle', 'rider', 'bicycle', 'rider', 'vehicle fallback', 'motorcycle', 'rider', 'rider'), ('motorcycle', 'rider', 'motorcycle', 'rider', 'bicycle', 'rider'), ('motorcycle', 'motorcycle', 'rider', 'rider'), ('motorcycle', 'motorcycle', 'rider', 'rider'), ('motorcycle', 'rider', 'rider'), ('autorickshaw', 'bicycle', 'rider'), ('vehicle fallback', 'autorickshaw', 'person', 'motorcycle', 'rider', 'motorcycle', 'rider', 'rider'), ('person', 'vehicle fallback', 'car', 'person', 'vehicle fallback', 'person'), ('car', 'motorcycle', 'motorcycle', 'bicycle', 'rider', 'rider', 'bicycle', 'rider', 'rider'), ('car', 'motorcycle', 'rider', 'bicycle', 'rider', 'bicycle', 'rider', 'car'), ('motorcycle', 'rider', 'truck', 'car', 'car', 'bicycle', 'rider'), ('motorcycle', 'rider', 'truck', 'car', 'bicycle', 'rider'), ('motorcycle', 'rider', 'car', 'truck', 'car'), ('motorcycle', 'rider', 'car', 'truck', 'traffic sign'), ('traffic sign', 'motorcycle', 'rider', 'car'), ('traffic sign', 'motorcycle', 'rider'), ('traffic sign', 'motorcycle', 'rider'), ('motorcycle', 'rider'), ('bus',), ('bus',), ('person', 'motorcycle', 'rider'), ('motorcycle', 'rider'), ('car', 'autorickshaw', 'motorcycle', 'rider', 'motorcycle', 'rider'), ('autorickshaw', 'car', 'motorcycle', 'rider'), ('autorickshaw', 'car', 'motorcycle', 'rider'), ('autorickshaw', 'bicycle', 'rider', 'car', 'motorcycle', 'rider'), ('autorickshaw', 'motorcycle', 'motorcycle', 'rider', 'rider', 'car'), ('autorickshaw', 'motorcycle', 'rider', 'motorcycle', 'rider', 'car'), ('autorickshaw', 'motorcycle', 'rider', 'car'), ('autorickshaw', 'motorcycle', 'rider', 'car'), ('autorickshaw', 'car', 'motorcycle', 'rider'), ('car', 'motorcycle', 'rider'), ('truck', 'autorickshaw', 'car', 'motorcycle', 'rider'), ('autorickshaw', 'car', 'car', 'motorcycle', 'rider'), ('autorickshaw', 'truck', 'motorcycle', 'car', 'car', 'rider', 'rider'), ('car', 'car', 'truck', 'car', 'motorcycle', 'rider', 'rider'), ('truck', 'truck', 'motorcycle', 'truck', 'rider', 'car', 'motorcycle', 'motorcycle', 'rider', 'rider'), ('autorickshaw', 'car', 'car', 'car', 'bus', 'motorcycle', 'rider', 'rider'), ('autorickshaw', 'car', 'car', 'car', 'motorcycle', 'rider', 'rider', 'motorcycle', 'rider', 'rider', 'bus'), ('autorickshaw', 'car', 'car', 'car', 'motorcycle', 'rider', 'rider'), ('vehicle fallback', 'car', 'car', 'car', 'car', 'motorcycle', 'rider', 'rider'), ('vehicle fallback', 'car', 'motorcycle', 'rider', 'motorcycle', 'rider', 'rider'), ('autorickshaw', 'car', 'vehicle fallback', 'motorcycle', 'rider', 'rider'), ('vehicle fallback', 'autorickshaw', 'car'), ('vehicle fallback', 'car'), ('truck', 'vehicle fallback', 'car'), ('truck', 'car'), ('truck', 'autorickshaw', 'car'), ('truck', 'autorickshaw', 'car'), ('truck', 'autorickshaw', 'car'), ('autorickshaw', 'truck', 'car', 'vehicle fallback'), ('vehicle fallback', 'autorickshaw', 'truck', 'car'), ('autorickshaw', 'truck', 'car'), ('autorickshaw', 'truck', 'car'), ('vehicle fallback', 'truck', 'motorcycle', 'rider', 'autorickshaw', 'motorcycle', 'rider'), ('vehicle fallback', 'autorickshaw', 'truck', 'car', 'motorcycle', 'rider', 'motorcycle', 'rider'), ('vehicle fallback', 'autorickshaw', 'autorickshaw', 'car', 'person', 'motorcycle', 'rider'), ('vehicle fallback', 'autorickshaw', 'truck', 'car', 'motorcycle', 'rider', 'person'), ('truck', 'truck', 'motorcycle', 'rider', 'person', 'motorcycle', 'rider', 'truck', 'car'), ('vehicle fallback', 'autorickshaw', 'truck', 'car', 'motorcycle', 'rider', 'motorcycle', 'rider', 'person'), ('vehicle fallback', 'truck', 'autorickshaw', 'car', 'motorcycle', 'rider', 'motorcycle', 'rider', 'rider', 'rider'), ('truck', 'motorcycle', 'rider', 'truck', 'car', 'truck', 'person'), ('vehicle fallback', 'autorickshaw', 'truck', 'rider', 'rider', 'person', 'person', 'person', 'car'), ('autorickshaw', 'motorcycle', 'rider', 'person', 'person', 'person', 'person', 'car'), ('truck', 'vehicle fallback', 'autorickshaw', 'motorcycle', 'rider', 'car', 'person', 'rider', 'motorcycle', 'person', 'person', 'person'), ('truck', 'autorickshaw', 'rider', 'person', 'person', 'car', 'vehicle fallback', 'motorcycle'), ('vehicle fallback', 'truck', 'motorcycle', 'rider', 'autorickshaw', 'motorcycle', 'rider', 'car', 'vehicle fallback'), ('vehicle fallback', 'autorickshaw', 'car', 'motorcycle', 'rider', 'truck'), ('truck', 'car', 'truck', 'truck', 'car', 'truck', 'truck'), ('autorickshaw', 'motorcycle', 'rider', 'bus', 'autorickshaw', 'car'), ('motorcycle', 'rider', 'autorickshaw', 'bus', 'autorickshaw', 'car', 'motorcycle', 'rider', 'truck'), ('vehicle fallback', 'autorickshaw', 'car', 'bus', 'motorcycle', 'rider', 'rider', 'autorickshaw', 'vehicle fallback'), ('vehicle fallback', 'autorickshaw', 'bus', 'car', 'motorcycle', 'rider'), ('car', 'truck', 'truck', 'person', 'person', 'person', 'person', 'autorickshaw', 'car', 'motorcycle', 'rider', 'person'), ('truck', 'bus', 'bus', 'truck', 'truck', 'rider', 'motorcycle', 'rider', 'car', 'motorcycle', 'rider', 'rider'), ('autorickshaw', 'truck', 'motorcycle', 'rider', 'car', 'rider', 'motorcycle', 'rider'), ('autorickshaw', 'truck', 'rider', 'car', 'motorcycle', 'rider'), ('vehicle fallback', 'vehicle fallback', 'motorcycle', 'rider', 'rider', 'car', 'motorcycle', 'rider', 'truck'), ('autorickshaw', 'vehicle fallback', 'rider', 'motorcycle', 'car'), ('autorickshaw', 'motorcycle', 'rider', 'vehicle fallback', 'car', 'motorcycle', 'rider'), ('autorickshaw', 'person', 'person', 'car', 'motorcycle', 'rider', 'motorcycle', 'rider', 'rider'), ('car', 'autorickshaw', 'car', 'bicycle', 'rider', 'motorcycle', 'rider'), ('autorickshaw', 'car', 'motorcycle', 'rider', 'bicycle', 'rider'), ('autorickshaw', 'motorcycle', 'truck', 'car', 'motorcycle', 'rider', 'rider', 'car', 'bicycle', 'rider'), ('car', 'autorickshaw', 'car', 'motorcycle', 'rider', 'motorcycle', 'rider', 'rider'), ('vehicle fallback', 'car', 'truck', 'motorcycle', 'motorcycle', 'rider', 'motorcycle', 'rider', 'car', 'motorcycle', 'rider'), ('autorickshaw', 'truck', 'autorickshaw', 'car', 'person', 'person', 'autorickshaw', 'motorcycle', 'rider', 'rider'), ('autorickshaw', 'truck', 'car', 'autorickshaw', 'motorcycle', 'rider'), ('truck', 'truck', 'car', 'car', 'car', 'truck', 'motorcycle', 'rider', 'rider'), ('car', 'truck', 'autorickshaw', 'motorcycle', 'car', 'vehicle fallback', 'rider', 'rider'), ('car', 'vehicle fallback', 'car', 'motorcycle', 'rider', 'truck', 'motorcycle', 'rider', 'rider'), ('car', 'car', 'autorickshaw', 'motorcycle', 'rider', 'motorcycle', 'rider', 'rider'), ('autorickshaw', 'car', 'motorcycle', 'motorcycle', 'rider', 'rider', 'rider'), ('autorickshaw', 'motorcycle', 'car', 'rider', 'motorcycle', 'rider', 'rider'), ('autorickshaw', 'vehicle fallback', 'car', 'motorcycle', 'rider', 'motorcycle', 'rider', 'rider'), ('truck', 'motorcycle', 'rider', 'motorcycle', 'truck', 'car', 'motorcycle', 'rider', 'rider', 'rider'), ('vehicle fallback', 'truck', 'motorcycle', 'rider', 'rider', 'car', 'autorickshaw', 'motorcycle', 'rider', 'rider'), ('truck', 'autorickshaw', 'truck', 'car', 'motorcycle', 'rider', 'rider'), ('truck', 'car', 'truck', 'autorickshaw', 'motorcycle', 'rider', 'rider'), ('car', 'truck', 'autorickshaw', 'truck', 'motorcycle', 'rider', 'rider'), ('autorickshaw', 'truck', 'truck', 'motorcycle', 'rider', 'rider'), ('autorickshaw', 'autorickshaw', 'truck', 'motorcycle', 'traffic sign', 'truck', 'motorcycle', 'rider', 'rider'), ('truck', 'traffic sign', 'autorickshaw', 'truck', 'motorcycle', 'rider', 'motorcycle', 'rider', 'rider'), ('motorcycle', 'rider', 'rider', 'traffic sign', 'truck', 'truck', 'autorickshaw', 'person', 'motorcycle', 'rider'), ('autorickshaw', 'truck', 'autorickshaw', 'motorcycle', 'rider', 'traffic sign', 'motorcycle', 'rider', 'rider'), ('autorickshaw', 'car', 'bicycle', 'rider', 'truck', 'autorickshaw', 'motorcycle', 'rider', 'motorcycle', 'rider', 'rider'), ('autorickshaw', 'car', 'bicycle', 'rider', 'motorcycle', 'motorcycle', 'rider', 'rider', 'rider'), ('bicycle', 'rider', 'autorickshaw', 'car', 'motorcycle', 'rider', 'rider'), ('autorickshaw', 'bicycle', 'rider', 'motorcycle', 'rider', 'rider'), ('bicycle', 'rider', 'autorickshaw', 'motorcycle', 'rider', 'rider'), ('autorickshaw', 'bicycle', 'rider', 'motorcycle', 'rider', 'rider'), ('car', 'truck', 'truck', 'autorickshaw', 'bicycle', 'rider', 'motorcycle', 'rider', 'rider'), ('truck', 'truck', 'bicycle', 'rider', 'motorcycle', 'rider', 'rider'), ('car', 'truck', 'truck', 'motorcycle', 'rider', 'rider'), ('truck', 'motorcycle', 'rider', 'rider'), ('car', 'truck', 'motorcycle', 'rider', 'rider'), ('autorickshaw', 'motorcycle', 'rider', 'motorcycle', 'rider', 'rider'), ('autorickshaw', 'car', 'motorcycle', 'rider', 'motorcycle', 'rider', 'rider'), ('autorickshaw', 'rider', 'bicycle', 'motorcycle', 'rider', 'rider'), ('car', 'autorickshaw'), ('car', 'autorickshaw', 'car'), ('bicycle', 'rider', 'autorickshaw', 'car'), ('autorickshaw', 'car', 'rider', 'bicycle'), ('autorickshaw', 'bicycle', 'rider', 'autorickshaw', 'car', 'vehicle fallback'), ('autorickshaw', 'bicycle', 'rider', 'vehicle fallback'), ('autorickshaw', 'motorcycle', 'rider', 'bicycle', 'rider'), ('autorickshaw', 'autorickshaw', 'motorcycle', 'rider', 'rider', 'bicycle', 'rider'), ('autorickshaw', 'autorickshaw', 'motorcycle', 'motorcycle', 'person', 'bicycle', 'rider'), ('autorickshaw', 'motorcycle', 'person', 'autorickshaw', 'bicycle', 'rider'), ('vehicle fallback', 'motorcycle', 'autorickshaw', 'motorcycle', 'person'), ('autorickshaw', 'vehicle fallback', 'motorcycle', 'motorcycle', 'person'), ('autorickshaw', 'motorcycle', 'person'), ('vehicle fallback', 'motorcycle', 'rider', 'autorickshaw'), ('vehicle fallback', 'bicycle', 'rider', 'autorickshaw', 'truck'), ('autorickshaw', 'vehicle fallback'), ('autorickshaw', 'motorcycle', 'rider'), ('autorickshaw', 'autorickshaw', 'bicycle', 'rider'), ('car', 'autorickshaw', 'bicycle', 'rider'), ('motorcycle', 'rider', 'bicycle', 'rider', 'autorickshaw'), ('autorickshaw', 'motorcycle', 'rider', 'bicycle', 'rider'), ('bus', 'motorcycle', 'rider', 'bicycle', 'rider', 'autorickshaw'), ('bus', 'motorcycle', 'rider', 'autorickshaw'), ('car', 'bus', 'autorickshaw', 'motorcycle', 'rider'), ('car', 'bus', 'autorickshaw'), ('car', 'autorickshaw', 'vehicle fallback', 'bus'), ('autorickshaw', 'car', 'motorcycle', 'rider', 'bus'), ('autorickshaw', 'car', 'car'), ('autorickshaw', 'car'), ('autorickshaw',), ('vehicle fallback', 'truck', 'autorickshaw'), ('vehicle fallback', 'autorickshaw', 'vehicle fallback', 'autorickshaw', 'vehicle fallback', 'person'), ('vehicle fallback', 'truck', 'animal', 'animal', 'animal', 'animal'), ('animal',), ('truck', 'truck'), ('truck', 'animal'), ('car', 'person', 'bus', 'bicycle', 'rider', 'truck', 'animal'), ('truck', 'truck', 'car', 'bus', 'bicycle', 'motorcycle', 'rider'), ('person', 'car', 'person', 'person', 'person', 'motorcycle', 'rider', 'car', 'person', 'bicycle', 'rider', 'vehicle fallback', 'truck', 'truck', 'car', 'truck'), ('autorickshaw', 'car', 'bus', 'person', 'motorcycle', 'rider', 'rider', 'vehicle fallback', 'rider')]\n",
            "183\n"
          ]
        }
      ]
    },
    {
      "cell_type": "code",
      "metadata": {
        "id": "owKs3cw75PMH"
      },
      "source": [
        "Images = glob.glob(\"/content/gdrive/My Drive/IDD_Detection/JPEGImages/frontFar/BLR-2018-03-22_17-39-26_2_frontFar/*.jpg\")\n",
        "Images = natsort.natsorted(Images,reverse=False)"
      ],
      "execution_count": 39,
      "outputs": []
    },
    {
      "cell_type": "code",
      "metadata": {
        "id": "ooLk2TMc6KFe"
      },
      "source": [
        ""
      ],
      "execution_count": null,
      "outputs": []
    }
  ]
}