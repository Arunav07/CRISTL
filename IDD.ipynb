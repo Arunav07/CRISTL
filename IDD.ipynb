{
  "nbformat": 4,
  "nbformat_minor": 0,
  "metadata": {
    "colab": {
      "name": "IDD.ipynb",
      "provenance": [],
      "collapsed_sections": [],
      "authorship_tag": "ABX9TyNk/xz7PuhbMpnN4DFysVZx",
      "include_colab_link": true
    },
    "kernelspec": {
      "name": "python3",
      "display_name": "Python 3"
    },
    "language_info": {
      "name": "python"
    }
  },
  "cells": [
    {
      "cell_type": "markdown",
      "metadata": {
        "id": "view-in-github",
        "colab_type": "text"
      },
      "source": [
        "<a href=\"https://colab.research.google.com/github/Arunav07/CRISTL-Project-1/blob/main/IDD.ipynb\" target=\"_parent\"><img src=\"https://colab.research.google.com/assets/colab-badge.svg\" alt=\"Open In Colab\"/></a>"
      ]
    },
    {
      "cell_type": "code",
      "metadata": {
        "id": "dfRA8hFIop1L"
      },
      "source": [
        "!pip install -U -q PyDrive\n",
        "  \n",
        "from pydrive.auth import GoogleAuth\n",
        "from pydrive.drive import GoogleDrive\n",
        "from google.colab import auth\n",
        "from oauth2client.client import GoogleCredentials\n",
        "  \n",
        "  \n",
        "# Authenticate and create the PyDrive client.\n",
        "auth.authenticate_user()\n",
        "gauth = GoogleAuth()\n",
        "gauth.credentials = GoogleCredentials.get_application_default()\n",
        "drive = GoogleDrive(gauth)"
      ],
      "execution_count": 2,
      "outputs": []
    },
    {
      "cell_type": "code",
      "metadata": {
        "id": "PQsIpICPo1Bj",
        "colab": {
          "base_uri": "https://localhost:8080/"
        },
        "outputId": "5033acd8-2b46-47f6-89d5-2bc6ec0d3216"
      },
      "source": [
        "testingLink = \"https://drive.google.com/file/d/1C0l3yTZmZByNfFe900P9oIPltmy8qPam/view?usp=sharing\"\n",
        "trainingLink = \"https://drive.google.com/file/d/1B5mnbwDNbRNmGT8ZJ4PoKEuGJdpc0jPZ/view?usp=sharing\"\n",
        "idTrain = trainingLink.split(\"/\")[-2]\n",
        "idTest = testingLink.split(\"/\")[-2]\n",
        "import pandas as pd\n",
        "downloaded = drive.CreateFile({'id':id}) \n",
        "downloaded.GetContentFile(\"train.txt\")\n",
        "dataTrain = pd.read_csv(\"train.txt\")\n",
        "downloaded.GetContentFile(\"test.txt\")\n",
        "dataTest = pd.read_csv(\"test.txt\")\n",
        "print(\"Training Dataset\",\"\\n\",dataTrain[:3])\n",
        "print(\"\\n\\n\\n\")\n",
        "print(\"Testing Dataset\",\"\\n\",dataTest[:3])"
      ],
      "execution_count": 9,
      "outputs": [
        {
          "output_type": "stream",
          "text": [
            "Training Dataset \n",
            "   frontFar/BLR-2018-03-22_17-39-26_2_frontFar/001542_r\n",
            "0  frontFar/BLR-2018-03-22_17-39-26_2_frontFar/00...  \n",
            "1  frontFar/BLR-2018-03-22_17-39-26_2_frontFar/00...  \n",
            "2  frontFar/BLR-2018-03-22_17-39-26_2_frontFar/00...  \n",
            "\n",
            "\n",
            "\n",
            "\n",
            "Testing Dataset \n",
            "   frontFar/BLR-2018-03-22_17-39-26_2_frontFar/001542_r\n",
            "0  frontFar/BLR-2018-03-22_17-39-26_2_frontFar/00...  \n",
            "1  frontFar/BLR-2018-03-22_17-39-26_2_frontFar/00...  \n",
            "2  frontFar/BLR-2018-03-22_17-39-26_2_frontFar/00...  \n"
          ],
          "name": "stdout"
        }
      ]
    }
  ]
}