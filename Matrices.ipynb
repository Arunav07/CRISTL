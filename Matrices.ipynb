{
  "nbformat": 4,
  "nbformat_minor": 0,
  "metadata": {
    "colab": {
      "name": "Matrices.ipynb",
      "provenance": [],
      "collapsed_sections": [],
      "authorship_tag": "ABX9TyOj/W8anjCLZjij+pHhyp5o",
      "include_colab_link": true
    },
    "kernelspec": {
      "name": "python3",
      "display_name": "Python 3"
    },
    "language_info": {
      "name": "python"
    }
  },
  "cells": [
    {
      "cell_type": "markdown",
      "metadata": {
        "id": "view-in-github",
        "colab_type": "text"
      },
      "source": [
        "<a href=\"https://colab.research.google.com/github/Arunav07/CRISTL-Project-1/blob/Anuja's-branch/Matrices.ipynb\" target=\"_parent\"><img src=\"https://colab.research.google.com/assets/colab-badge.svg\" alt=\"Open In Colab\"/></a>"
      ]
    },
    {
      "cell_type": "code",
      "metadata": {
        "id": "BuEfhZxkxInZ"
      },
      "source": [
        "import csv\n",
        "import tensorflow as tf"
      ],
      "execution_count": null,
      "outputs": []
    },
    {
      "cell_type": "code",
      "metadata": {
        "id": "mJo3wxF837sU"
      },
      "source": [
        "import pathlib\n",
        "import os\n",
        "import matplotlib.pyplot as plt\n",
        "import pandas as pd\n",
        "import numpy as np"
      ],
      "execution_count": null,
      "outputs": []
    },
    {
      "cell_type": "code",
      "metadata": {
        "colab": {
          "base_uri": "https://localhost:8080/"
        },
        "id": "q63Gq0I54Bwd",
        "outputId": "371783b7-6d9c-4834-e95f-fd276aea993f"
      },
      "source": [
        "from google.colab import drive\n",
        "drive.mount(\"/content/gdrive\") "
      ],
      "execution_count": null,
      "outputs": [
        {
          "output_type": "stream",
          "name": "stdout",
          "text": [
            "Mounted at /content/gdrive\n"
          ]
        }
      ]
    },
    {
      "cell_type": "code",
      "metadata": {
        "colab": {
          "base_uri": "https://localhost:8080/"
        },
        "id": "F_k89FrF97-t",
        "outputId": "9754f1c9-7380-4810-d28c-13cb7dbcf263"
      },
      "source": [
        "                                       ###########                         for one .xml file                               ############\n",
        "\n",
        "import xml.etree.ElementTree as ET\n",
        "import csv\n",
        "import pandas as pd\n",
        "\n",
        "flag = []\n",
        "check = 0\n",
        "\n",
        "f = open('/content/gdrive/My Drive/IDD_Detection/Annotations/frontFar/BLR-2018-03-22_17-39-26_2_frontFar/000006_r.xml') \n",
        "root = ET.parse(f)\n",
        "\n",
        "# Create and open csv\n",
        "xml_data_to_csv = open('Out.csv','w', newline = \"\\n\")\n",
        "\n",
        "# Create the variable to write the csv\n",
        "csv_writer = csv.writer(xml_data_to_csv)\n",
        "\n",
        "# creating the columns for the table\n",
        "Table = []\n",
        "Table.append([('Labels'),('Co-ordinates')])\n",
        "for obj in root.findall('object'):\n",
        "    check += 1\n",
        "    bndbox: ET.Element = obj.find('bndbox')\n",
        "    name = obj.find('name').text\n",
        "    xmin, xmax, ymin, ymax = [int(bndbox.find(x).text) for x in ['xmin', 'xmax', 'ymin', 'ymax']]\n",
        "    coords = [(x, y) for x in [xmin, xmax] for y in [ymin, ymax]]\n",
        "    Table.append([(name),(coords)])\n",
        "    print(name, coords)\n",
        "flag.append(check)\n",
        "# adding to csv\n",
        "csv_writer.writerows(Table)\n",
        "\n",
        "# close the csv file\n",
        "xml_data_to_csv.close()      \n",
        "  \n",
        "# close the .xml file\n",
        "f.close()\n",
        "print(flag)"
      ],
      "execution_count": null,
      "outputs": [
        {
          "output_type": "stream",
          "name": "stdout",
          "text": [
            "truck [(26, 293), (26, 604), (396, 293), (396, 604)]\n",
            "person [(708, 439), (708, 480), (754, 439), (754, 480)]\n",
            "autorickshaw [(999, 414), (999, 541), (1132, 414), (1132, 541)]\n",
            "person [(1177, 419), (1177, 557), (1227, 419), (1227, 557)]\n",
            "car [(131, 468), (131, 963), (1277, 468), (1277, 963)]\n",
            "[5]\n"
          ]
        }
      ]
    },
    {
      "cell_type": "code",
      "metadata": {
        "colab": {
          "base_uri": "https://localhost:8080/",
          "height": 35
        },
        "id": "Jdp8o4yYH-OO",
        "outputId": "74435641-db31-482c-8778-2788eb206334"
      },
      "source": [
        "reading = pd.read_csv(\"Out.csv\")\n",
        "reading.head\n",
        "mylist = reading.iloc[:,0]\n",
        "mylist[0]"
      ],
      "execution_count": null,
      "outputs": [
        {
          "output_type": "execute_result",
          "data": {
            "text/plain": [
              "'truck'"
            ],
            "application/vnd.google.colaboratory.intrinsic+json": {
              "type": "string"
            }
          },
          "metadata": {},
          "execution_count": 5
        }
      ]
    },
    {
      "cell_type": "code",
      "metadata": {
        "id": "8gmz_DuxpIE4"
      },
      "source": [
        "main_matrix = [['Encodings', 0, 0, 0, 0, 0, 0, 0, 0, 0, 0, 0], ['xmin', 0, 0, 0, 0, 0, 0, 0, 0, 0, 0, 0], \n",
        "                 ['ymin', 0, 0, 0, 0, 0, 0, 0, 0, 0, 0, 0], ['xmax', 0, 0, 0, 0, 0, 0, 0, 0, 0, 0, 0], \n",
        "                 ['ymax', 0, 0, 0, 0, 0, 0, 0, 0, 0, 0, 0]]\n",
        "\n",
        "Labels_list = ['Labels', 'truck', 'person', 'autorickshaw', 'car', 'motorcycle', 'rider', 'bus', 'bicycle', 'vehicle fallback', 'traffic sign', 'animal' ]                 "
      ],
      "execution_count": null,
      "outputs": []
    },
    {
      "cell_type": "code",
      "source": [
        "#Table = []\n",
        "def manipulate(table):\n",
        "\n",
        "  main_matrix = [['Labels', 'truck', 'person', 'autorickshaw', 'car', 'motorcycle', 'rider', 'bus', 'bicycle', 'vehicle fallback', 'traffic sign', 'animal' ], \n",
        "                 ['Encodings', 0, 0, 0, 0, 0, 0, 0, 0, 0, 0, 0], ['xmin', 0, 0, 0, 0, 0, 0, 0, 0, 0, 0, 0], \n",
        "                 ['ymin', 0, 0, 0, 0, 0, 0, 0, 0, 0, 0, 0], ['xmax', 0, 0, 0, 0, 0, 0, 0, 0, 0, 0, 0], \n",
        "                 ['ymax', 0, 0, 0, 0, 0, 0, 0, 0, 0, 0, 0]]\n",
        " \n",
        "  for image in table:\n",
        "    #print(image)\n",
        "    if image[0] == 'truck':\n",
        "      main_matrix[1][1] = 1\n",
        "      main_matrix[2][1] = image[1][0]\n",
        "      main_matrix[3][1] = image[1][2]\n",
        "      main_matrix[4][1] = image[1][1]\n",
        "      main_matrix[5][1] = image[1][3]\n",
        "    elif image[0] == 'person':\n",
        "      main_matrix[1][2] = 1\n",
        "      main_matrix[2][2] = image[1][0]\n",
        "      main_matrix[3][2] = image[1][2]\n",
        "      main_matrix[4][2] = image[1][1]\n",
        "      main_matrix[5][2] = image[1][3]\n",
        "    elif image[0] == 'autorickshaw':\n",
        "      main_matrix[1][3] = 1\n",
        "      main_matrix[2][3] = image[1][0]\n",
        "      main_matrix[3][3] = image[1][2]\n",
        "      main_matrix[4][3] = image[1][1]\n",
        "      main_matrix[5][3] = image[1][3]\n",
        "    elif image[0] == 'car':\n",
        "      main_matrix[1][4] = 1\n",
        "      main_matrix[2][4] = image[1][0]\n",
        "      main_matrix[3][4] = image[1][2]\n",
        "      main_matrix[4][4] = image[1][1]\n",
        "      main_matrix[5][4] = image[1][3]\n",
        "    elif image[0] == 'motorcycle':\n",
        "      main_matrix[1][5] = 1\n",
        "      main_matrix[2][5] = image[1][0]\n",
        "      main_matrix[3][5] = image[1][2]\n",
        "      main_matrix[4][5] = image[1][1]\n",
        "      main_matrix[5][5] = image[1][3]\n",
        "    elif image[0] == 'rider':\n",
        "      main_matrix[1][6] = 1\n",
        "      main_matrix[2][6] = image[1][0]\n",
        "      main_matrix[3][6] = image[1][2]\n",
        "      main_matrix[4][6] = image[1][1]\n",
        "      main_matrix[5][6] = image[1][3]\n",
        "    elif image[0] == 'bus':\n",
        "      main_matrix[1][7] = 1\n",
        "      main_matrix[2][7] = image[1][0]\n",
        "      main_matrix[3][7] = image[1][2]\n",
        "      main_matrix[4][7] = image[1][1]\n",
        "      main_matrix[5][7] = image[1][3]\n",
        "    elif image[0] == 'bicycle':\n",
        "      main_matrix[1][8] = 1\n",
        "      main_matrix[2][8] = image[1][0]\n",
        "      main_matrix[3][8] = image[1][2]\n",
        "      main_matrix[4][8] = image[1][1]\n",
        "      main_matrix[5][8] = image[1][3]\n",
        "    elif image[0] ==  'vehicle fallback':\n",
        "      main_matrix[1][9] = 1\n",
        "      main_matrix[2][9] = image[1][0]\n",
        "      main_matrix[3][9] = image[1][2]\n",
        "      main_matrix[4][9] = image[1][1]\n",
        "      main_matrix[5][9] = image[1][3]\n",
        "    elif image[0] == 'traffic sign':\n",
        "      main_matrix[1][10] = 1\n",
        "      main_matrix[2][10] = image[1][0]\n",
        "      main_matrix[3][10] = image[1][2]\n",
        "      main_matrix[4][10] = image[1][1]\n",
        "      main_matrix[5][10] = image[1][3]\n",
        "    elif image[0] == 'animal':\n",
        "      main_matrix[1][11] = 1\n",
        "      main_matrix[2][11] = image[1][0]\n",
        "      main_matrix[3][11] = image[1][2]\n",
        "      main_matrix[4][11] = image[1][1]\n",
        "      main_matrix[5][11] = image[1][3]\n",
        "\n",
        "\n",
        "  return main_matrix\n",
        "\n",
        "    \n"
      ],
      "metadata": {
        "id": "Pg-YErKQ21tA"
      },
      "execution_count": null,
      "outputs": []
    },
    {
      "cell_type": "code",
      "metadata": {
        "id": "rJPWXenMDlhq"
      },
      "source": [
        " #############                for entire batch - Frontfar            ###################\n",
        "import xml.etree.ElementTree as ET\n",
        "import csv\n",
        "import pandas as pd\n",
        "import os\n",
        "from PIL import Image\n",
        "\n",
        "count = 0\n",
        "\n",
        "for i in range(6,17400,6):\n",
        "  try:\n",
        "    count += 1\n",
        "    annot_path = '/content/gdrive/My Drive/IDD_Detection/Annotations/frontFar/BLR-2018-03-22_17-39-26_2_frontFar/'\n",
        "    path_name = annot_path + str(i).zfill(6) + \"_r.xml\"\n",
        "    f = open(path_name) \n",
        "    root = ET.parse(f)\n",
        "\n",
        "    # Create and open csv\n",
        "    #xml_data_to_csv = open('Out.csv','a', newline = \"\\n\")\n",
        "    xml_data_to_csv = open('Output.csv','a', newline = \"\\n\")\n",
        "    \n",
        "    # Create the variable to write the csv\n",
        "    csv_writer = csv.writer(xml_data_to_csv)\n",
        "\n",
        "    # creating the columns for the table\n",
        "    Table = []\n",
        "    \n",
        "\n",
        "    for obj in root.findall('object'):\n",
        "        \n",
        "        bndbox: ET.Element = obj.find('bndbox')\n",
        "        name = obj.find('name').text\n",
        "        xmin, xmax, ymin, ymax = [int(bndbox.find(x).text) for x in ['xmin', 'xmax', 'ymin', 'ymax']]\n",
        "        coords = [xmin, xmax, ymin, ymax]\n",
        "        #print(name)\n",
        "        #print(coords)\n",
        "        #print(\"******\")\n",
        "        Table.append([(name),(coords)])\n",
        "\n",
        "\n",
        "    #print(Table)\n",
        "    Table = manipulate(Table)\n",
        "    #print(Table)\n",
        "\n",
        "    \n",
        "    # adding to csv\n",
        "    csv_writer.writerows(Table)\n",
        "\n",
        "    # close the csv file\n",
        "    xml_data_to_csv.close()      \n",
        "  \n",
        "    # close the .xml file\n",
        "    f.close()\n",
        "  except FileNotFoundError:\n",
        "    continue\n"
      ],
      "execution_count": null,
      "outputs": []
    },
    {
      "cell_type": "code",
      "metadata": {
        "id": "C2jC1WWX-OEc"
      },
      "source": [
        " #############                for entire batch - Frontfar            ###################\n",
        "import xml.etree.ElementTree as ET\n",
        "import csv\n",
        "import pandas as pd\n",
        "import os\n",
        "from PIL import Image\n",
        "\n",
        "count = 0\n",
        "my_dict = {}\n",
        "#flag = []\n",
        "for i in range(6,17400,6):\n",
        "  try:\n",
        "    count += 1\n",
        "    annot_path = '/content/gdrive/My Drive/IDD_Detection/Annotations/frontFar/BLR-2018-03-22_17-39-26_2_frontFar/'\n",
        "    path_name = annot_path + str(i).zfill(6) + \"_r.xml\"\n",
        "    f = open(path_name) \n",
        "    root = ET.parse(f)\n",
        "\n",
        "    # Create and open csv\n",
        "    xml_data_to_csv = open('Out.csv','a', newline = \"\\n\")\n",
        "\n",
        "    # Create the variable to write the csv\n",
        "    csv_writer = csv.writer(xml_data_to_csv)\n",
        "\n",
        "    # creating the columns for the table\n",
        "    Table = []\n",
        "    check = 0\n",
        "\n",
        "    for obj in root.findall('object'):\n",
        "        check += 1\n",
        "        bndbox: ET.Element = obj.find('bndbox')\n",
        "        name = obj.find('name').text\n",
        "        xmin, xmax, ymin, ymax = [int(bndbox.find(x).text) for x in ['xmin', 'xmax', 'ymin', 'ymax']]\n",
        "        coords = [xmin, xmax, ymin, ymax]\n",
        "        #print(name, coords)\n",
        "        #print(name)\n",
        "        #print(coords)\n",
        "        #print(\"******\")\n",
        "        #coords = [(x, y) for x in [xmin, xmax] for y in [ymin, ymax]]\n",
        "        Table.append([(name),(coords)])\n",
        "        \n",
        "\n",
        "\n",
        "    #print(Table)\n",
        "    manipulate(Table)\n",
        "    print(\"Pause\")\n",
        "    #my_dict[name] = coords\n",
        "    #print(my_dict)\n",
        "\n",
        "\n",
        "    #flag.append(check)\n",
        "    # adding to csv\n",
        "    csv_writer.writerows(Table)\n",
        "\n",
        "    # close the csv file\n",
        "    xml_data_to_csv.close()      \n",
        "  \n",
        "    # close the .xml file\n",
        "    f.close()\n",
        "  except FileNotFoundError:\n",
        "    continue\n",
        "#print(Table)\n",
        "#pd.read_csv(\"Out.csv\")"
      ],
      "execution_count": null,
      "outputs": []
    },
    {
      "cell_type": "code",
      "metadata": {
        "colab": {
          "base_uri": "https://localhost:8080/"
        },
        "id": "x9dmawzqrQWz",
        "outputId": "852f304b-05e6-4f8a-d51b-6f763c898a8a"
      },
      "source": [
        "reading = pd.read_csv(\"Out.csv\")\n",
        "reading.head"
      ],
      "execution_count": null,
      "outputs": [
        {
          "output_type": "execute_result",
          "data": {
            "text/plain": [
              "<bound method NDFrame.head of                 Labels                                       Co-ordinates\n",
              "0                truck     [(26, 293), (26, 604), (396, 293), (396, 604)]\n",
              "1               person   [(708, 439), (708, 480), (754, 439), (754, 480)]\n",
              "2         autorickshaw  [(999, 414), (999, 541), (1132, 414), (1132, 5...\n",
              "3               person  [(1177, 419), (1177, 557), (1227, 419), (1227,...\n",
              "4                  car  [(131, 468), (131, 963), (1277, 468), (1277, 9...\n",
              "...                ...                                                ...\n",
              "6342        motorcycle                               [105, 164, 387, 470]\n",
              "6343             rider                               [113, 143, 369, 402]\n",
              "6344             rider                               [106, 160, 371, 454]\n",
              "6345  vehicle fallback                                  [5, 40, 428, 522]\n",
              "6346             rider                                  [0, 30, 388, 471]\n",
              "\n",
              "[6347 rows x 2 columns]>"
            ]
          },
          "metadata": {},
          "execution_count": 27
        }
      ]
    }
  ]
}