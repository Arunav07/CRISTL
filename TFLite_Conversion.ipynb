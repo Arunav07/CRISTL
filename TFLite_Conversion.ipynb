{
  "nbformat": 4,
  "nbformat_minor": 0,
  "metadata": {
    "colab": {
      "provenance": [],
      "authorship_tag": "ABX9TyM807LwxLIz/XQgvDkMppNq",
      "include_colab_link": true
    },
    "kernelspec": {
      "name": "python3",
      "display_name": "Python 3"
    },
    "language_info": {
      "name": "python"
    }
  },
  "cells": [
    {
      "cell_type": "markdown",
      "metadata": {
        "id": "view-in-github",
        "colab_type": "text"
      },
      "source": [
        "<a href=\"https://colab.research.google.com/github/Arunav07/CRISTL-Project-1/blob/Atharva_M's---Branch/TFLite_Conversion.ipynb\" target=\"_parent\"><img src=\"https://colab.research.google.com/assets/colab-badge.svg\" alt=\"Open In Colab\"/></a>"
      ]
    },
    {
      "cell_type": "code",
      "source": [
        "import tensorflow as tf\n",
        "from google.colab import drive\n",
        "drive.mount('/content/drive')"
      ],
      "metadata": {
        "id": "UO5IuHMyY3jb",
        "colab": {
          "base_uri": "https://localhost:8080/"
        },
        "outputId": "0d9fedea-0447-4edb-9e74-c235d3023be1"
      },
      "execution_count": 1,
      "outputs": [
        {
          "output_type": "stream",
          "name": "stdout",
          "text": [
            "Mounted at /content/drive\n"
          ]
        }
      ]
    },
    {
      "cell_type": "markdown",
      "source": [
        "[Conversion reference](https://www.tensorflow.org/lite/models/convert/convert_models) "
      ],
      "metadata": {
        "id": "MBK_Fh98YMFd"
      }
    },
    {
      "cell_type": "code",
      "source": [
        "#Loading .h5 format model file.\n",
        "model = tf.keras.models.load_model(\"/content/drive/MyDrive/IDD_Detection/transfer_learning.h5\")"
      ],
      "metadata": {
        "id": "UmgAs9IzcAfm"
      },
      "execution_count": 35,
      "outputs": []
    },
    {
      "cell_type": "code",
      "source": [
        "#Saving the model as .pb format in an independant directory.\n",
        "tf.saved_model.save(model, \"/content/drive/MyDrive/IDD_Detection/TF_lite\")"
      ],
      "metadata": {
        "id": "uI9iA340cDC9"
      },
      "execution_count": 25,
      "outputs": []
    },
    {
      "cell_type": "code",
      "source": [
        "#Loading the .pb file as SavedModel format for further conversion.\n",
        "model = tf.saved_model.load(\"/content/drive/MyDrive/IDD_Detection/TF_lite\")"
      ],
      "metadata": {
        "id": "tMTe71ledbaX"
      },
      "execution_count": 27,
      "outputs": []
    },
    {
      "cell_type": "code",
      "source": [
        "#Converting the SavedModel format model file to tflite model. \n",
        "converter = tf.lite.TFLiteConverter.from_saved_model(\"/content/drive/MyDrive/IDD_Detection/TF_lite\")\n",
        "tflite_model = converter.convert()"
      ],
      "metadata": {
        "id": "GigB64ZQYmcv"
      },
      "execution_count": 31,
      "outputs": []
    },
    {
      "cell_type": "code",
      "source": [
        "#Saving the model file.\n",
        "with open('/content/drive/MyDrive/IDD_Detection/TF_lite/saved_model.tflite', 'wb') as f:\n",
        "  f.write(tflite_model)"
      ],
      "metadata": {
        "id": "3-BkogjMgUnI"
      },
      "execution_count": 48,
      "outputs": []
    }
  ]
}