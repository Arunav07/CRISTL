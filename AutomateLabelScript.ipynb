{
  "nbformat": 4,
  "nbformat_minor": 0,
  "metadata": {
    "colab": {
      "name": "AutomateLabelScript.ipynb",
      "provenance": [],
      "authorship_tag": "ABX9TyPJjdoKY9HPqlDQAwc9riIs",
      "include_colab_link": true
    },
    "kernelspec": {
      "name": "python3",
      "display_name": "Python 3"
    },
    "language_info": {
      "name": "python"
    }
  },
  "cells": [
    {
      "cell_type": "markdown",
      "metadata": {
        "id": "view-in-github",
        "colab_type": "text"
      },
      "source": [
        "<a href=\"https://colab.research.google.com/github/Arunav07/CRISTL-Project-1/blob/Anuja's-branch/AutomateLabelScript.ipynb\" target=\"_parent\"><img src=\"https://colab.research.google.com/assets/colab-badge.svg\" alt=\"Open In Colab\"/></a>"
      ]
    },
    {
      "cell_type": "code",
      "execution_count": 1,
      "metadata": {
        "id": "i5hI_5lEz__k"
      },
      "outputs": [],
      "source": [
        "#Importing necesssary libraries\n",
        "import glob\n",
        "import natsort\n",
        "import numpy as np\n",
        "import pandas as pd\n",
        "import tensorflow as tf\n",
        "from PIL import Image\n",
        "import xml.etree.ElementTree as ET\n",
        "import csv"
      ]
    },
    {
      "cell_type": "code",
      "source": [
        "from google.colab import drive\n",
        "drive.mount(\"/content/gdrive\") "
      ],
      "metadata": {
        "colab": {
          "base_uri": "https://localhost:8080/"
        },
        "id": "8GGi8nuV0HVm",
        "outputId": "1ba08287-2da1-49d2-b7e4-893fcdd5c3e3"
      },
      "execution_count": 2,
      "outputs": [
        {
          "output_type": "stream",
          "name": "stdout",
          "text": [
            "Mounted at /content/gdrive\n"
          ]
        }
      ]
    },
    {
      "cell_type": "code",
      "source": [
        "#Reading annotation files using glob\n",
        "Labels_data=glob.glob(\"/content/gdrive/MyDrive/IDD_Detection/Annotations/highquality_16k/15-07-18-upload/*.xml\")\n",
        "Labels_data = natsort.natsorted(Labels_data,reverse=False)"
      ],
      "metadata": {
        "id": "qJlqkv-_0MGW"
      },
      "execution_count": 7,
      "outputs": []
    },
    {
      "cell_type": "code",
      "source": [
        "#Checking how many are read\n",
        "#print(Labels_data)\n",
        "print(len(Labels_data))"
      ],
      "metadata": {
        "colab": {
          "base_uri": "https://localhost:8080/"
        },
        "id": "SNmcX6O80SlM",
        "outputId": "b396612e-1aae-4f07-d1ca-671c331ef989"
      },
      "execution_count": 12,
      "outputs": [
        {
          "output_type": "stream",
          "name": "stdout",
          "text": [
            "663\n"
          ]
        }
      ]
    },
    {
      "cell_type": "code",
      "source": [
        "#Function to manipulate the csv data to get our required one-hot encoded label file\n",
        "\n",
        "def manipulate(table):\n",
        "\n",
        "  main_matrix = [ 0, 0, 0, 0, 0, 0, 0, 0, 0, 0, 0]\n",
        " \n",
        "  for image in table:\n",
        "    #print(image)\n",
        "    if image[0] == 'truck':\n",
        "      main_matrix[0] = 1\n",
        "      \n",
        "    elif image[0] == 'person':\n",
        "      main_matrix[1] = 1\n",
        "\n",
        "    elif image[0] == 'autorickshaw':\n",
        "      main_matrix[2] = 1\n",
        "\n",
        "    elif image[0] == 'car':\n",
        "      main_matrix[3] = 1\n",
        "\n",
        "    elif image[0] == 'motorcycle':\n",
        "      main_matrix[4] = 1\n",
        "\n",
        "    elif image[0] == 'rider':\n",
        "      main_matrix[5] = 1\n",
        "\n",
        "    elif image[0] == 'bus':\n",
        "      main_matrix[6] = 1\n",
        "\n",
        "    elif image[0] == 'bicycle':\n",
        "      main_matrix[7] = 1\n",
        "\n",
        "    elif image[0] ==  'vehicle fallback':\n",
        "      main_matrix[8] = 1\n",
        "\n",
        "    elif image[0] == 'traffic sign':\n",
        "      main_matrix[9] = 1\n",
        "\n",
        "    elif image[0] == 'animal':\n",
        "      main_matrix[10] = 1\n",
        "\n",
        "\n",
        "\n",
        "  return main_matrix\n",
        "\n",
        "    \n"
      ],
      "metadata": {
        "id": "BnEW5R-60bC3"
      },
      "execution_count": 10,
      "outputs": []
    },
    {
      "cell_type": "code",
      "source": [
        "#Creation of required csv file\n",
        "\n",
        "for i in Labels_data:\n",
        "  f = open(i) \n",
        "  root = ET.parse(f)\n",
        "\n",
        "\n",
        "  # Create and open csv\n",
        "  #xml_data_to_csv = open('Labels.csv','a', newline = \"\\n\")\n",
        "  xml_data_to_csv = open('AutomatedLabelFile.csv','a', newline = \"\\n\")\n",
        "  \n",
        "\n",
        "  # Create the variable to write the csv\n",
        "  csv_writer = csv.writer(xml_data_to_csv)\n",
        "\n",
        "\n",
        "  # creating the columns for the table\n",
        "  Table = []\n",
        "  \n",
        "  for obj in root.findall('object'):\n",
        "      bndbox: ET.Element = obj.find('bndbox')\n",
        "      name = obj.find('name').text\n",
        "      xmin, xmax, ymin, ymax = [int(bndbox.find(x).text) for x in ['xmin', 'xmax', 'ymin', 'ymax']]\n",
        "      coords = [xmin, xmax, ymin, ymax]\n",
        "      Table.append([(name),(coords)])\n",
        "      \n",
        "\n",
        "  Table = manipulate(Table)\n",
        "  #print(Table)\n",
        "  #print(type(Table))\n",
        "  \n",
        "  \n",
        "  csv_writer.writerow(Table)\n",
        "  \n",
        "\n",
        "  # close the csv file\n",
        "  xml_data_to_csv.close()      \n",
        "    \n",
        "  # close the .xml file\n",
        "  f.close()"
      ],
      "metadata": {
        "id": "Ron9BuKn0lvv"
      },
      "execution_count": 11,
      "outputs": []
    }
  ]
}