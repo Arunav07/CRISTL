{
  "nbformat": 4,
  "nbformat_minor": 0,
  "metadata": {
    "colab": {
      "name": "Convert to csv_1.ipynb",
      "provenance": [],
      "collapsed_sections": [],
      "authorship_tag": "ABX9TyMjlnV7eai+Y4/nenhM/XPK",
      "include_colab_link": true
    },
    "kernelspec": {
      "name": "python3",
      "display_name": "Python 3"
    },
    "language_info": {
      "name": "python"
    }
  },
  "cells": [
    {
      "cell_type": "markdown",
      "metadata": {
        "id": "view-in-github",
        "colab_type": "text"
      },
      "source": [
        "<a href=\"https://colab.research.google.com/github/Arunav07/CRISTL-Project-1/blob/Soham's---Branch/Convert_to_csv_1.ipynb\" target=\"_parent\"><img src=\"https://colab.research.google.com/assets/colab-badge.svg\" alt=\"Open In Colab\"/></a>"
      ]
    },
    {
      "cell_type": "code",
      "metadata": {
        "colab": {
          "base_uri": "https://localhost:8080/"
        },
        "id": "wnCOQfETp8sW",
        "outputId": "8e810b2c-9916-44af-b8fb-15e49dcf1c9f"
      },
      "source": [
        "from google.colab import drive\n",
        "drive.mount(\"/content/gdrive\") "
      ],
      "execution_count": null,
      "outputs": [
        {
          "output_type": "stream",
          "name": "stdout",
          "text": [
            "Mounted at /content/gdrive\n"
          ]
        }
      ]
    },
    {
      "cell_type": "code",
      "metadata": {
        "id": "WWfnNTyppNGR"
      },
      "source": [
        "                                       ###########                         for one .xml file                               ############\n",
        "\n",
        "import xml.etree.ElementTree as ET\n",
        "import csv\n",
        "import pandas as pd\n",
        "\n",
        "\n",
        "f = open('/content/gdrive/My Drive/Project/IDD_Detection/Annotations/frontFar/BLR-2018-03-22_17-39-26_2_frontFar/000006_r.xml') \n",
        "root = ET.parse(f)\n",
        "\n",
        "# Create and open csv\n",
        "xml_data_to_csv = open('Out.csv','w')\n",
        "\n",
        "# Create the variable to wrtie the csv\n",
        "csv_writer = csv.writer(xml_data_to_csv)\n",
        "\n",
        "# creating the columns for the table\n",
        "Table = []\n",
        "\n",
        "for obj in root.findall('object'):\n",
        "    bndbox: ET.Element = obj.find('bndbox')\n",
        "    name = obj.find('name').text\n",
        "    xmin, xmax, ymin, ymax = [int(bndbox.find(x).text) for x in ['xmin', 'xmax', 'ymin', 'ymax']]\n",
        "    coords = [(x, y) for x in [xmin, xmax] for y in [ymin, ymax]]\n",
        "    Table.append([(name),(coords)])\n",
        "\n",
        "# adding too csv\n",
        "csv_writer.writerows(Table)\n",
        "\n",
        "# close the csv file\n",
        "xml_data_to_csv.close()      \n",
        "  \n",
        "# close the .xml file\n",
        "f.close()"
      ],
      "execution_count": null,
      "outputs": []
    },
    {
      "cell_type": "code",
      "metadata": {
        "colab": {
          "base_uri": "https://localhost:8080/"
        },
        "id": "ki4Ivsbk75Nj",
        "outputId": "c89f311c-8640-4d35-dfd2-4ab0e0367511"
      },
      "source": [
        "import pandas as pd\n",
        "data = pd.read_csv(\"Out.csv\")\n",
        "df = pd.DataFrame(data)\n",
        "print(df)"
      ],
      "execution_count": null,
      "outputs": [
        {
          "output_type": "stream",
          "name": "stdout",
          "text": [
            "          truck     [(26, 293), (26, 604), (396, 293), (396, 604)]\n",
            "0        person   [(708, 439), (708, 480), (754, 439), (754, 480)]\n",
            "1  autorickshaw  [(999, 414), (999, 541), (1132, 414), (1132, 5...\n",
            "2        person  [(1177, 419), (1177, 557), (1227, 419), (1227,...\n",
            "3           car  [(131, 468), (131, 963), (1277, 468), (1277, 9...\n"
          ]
        }
      ]
    },
    {
      "cell_type": "code",
      "metadata": {
        "id": "4RBHCSLzyTPA"
      },
      "source": [
        "                              #############                for entire batch - Frontfar            ###################\n",
        "import xml.etree.ElementTree as ET\n",
        "import csv\n",
        "import pandas as pd\n",
        "import os\n",
        "from PIL import Image\n",
        "\n",
        "count = 0\n",
        "for i in range(6,17400,6):\n",
        "  try:\n",
        "    count += 1\n",
        "    annot_path = '/content/gdrive/My Drive/Project/IDD_Detection/Annotations/frontFar/BLR-2018-03-22_17-39-26_2_frontFar/'\n",
        "    path_name = annot_path + str(i).zfill(6) + \"_r.xml\"\n",
        "    f = open(path_name) \n",
        "    root = ET.parse(f)\n",
        "\n",
        "    # Create and open csv\n",
        "    xml_data_to_csv = open('Out.csv','a')\n",
        "\n",
        "    # Create the variable to wrtie the csv\n",
        "    csv_writer = csv.writer(xml_data_to_csv)\n",
        "\n",
        "    # creating the columns for the table\n",
        "    Table = []\n",
        "\n",
        "    for obj in root.findall('object'):\n",
        "        bndbox: ET.Element = obj.find('bndbox')\n",
        "        name = obj.find('name').text\n",
        "        xmin, xmax, ymin, ymax = [int(bndbox.find(x).text) for x in ['xmin', 'xmax', 'ymin', 'ymax']]\n",
        "        coords = [(x, y) for x in [xmin, xmax] for y in [ymin, ymax]]\n",
        "        Table.append([(name),(coords)])\n",
        "\n",
        "    # adding too csv\n",
        "    csv_writer.writerows(Table)\n",
        "\n",
        "    # close the csv file\n",
        "    xml_data_to_csv.close()      \n",
        "  \n",
        "    # close the .xml file\n",
        "    f.close()\n",
        "  except FileNotFoundError:\n",
        "    continue"
      ],
      "execution_count": null,
      "outputs": []
    },
    {
      "cell_type": "code",
      "metadata": {
        "id": "dQ7bnhsTCCqy"
      },
      "source": [
        " #############                for entire batch - Frontfar            ###################\n",
        "import xml.etree.ElementTree as ET\n",
        "import csv\n",
        "import pandas as pd\n",
        "import os\n",
        "from PIL import Image\n",
        "\n",
        "count = 0\n",
        "for i in range(6,17400,6):\n",
        "  try:\n",
        "    count += 1\n",
        "    annot_path = '/content/gdrive/My Drive/Project/IDD_Detection/Annotations/frontFar/BLR-2018-03-22_17-39-26_2_frontFar/'\n",
        "    path_name = annot_path + str(i).zfill(6) + \"_r.xml\"\n",
        "    f = open(path_name) \n",
        "    root = ET.parse(f)\n",
        "\n",
        "    # Create and open csv\n",
        "    xml_data_to_csv = open('Out.csv','a')\n",
        "\n",
        "    # Create the variable to wrtie the csv\n",
        "    csv_writer = csv.writer(xml_data_to_csv)\n",
        "\n",
        "    # creating the columns for the table\n",
        "    Table = []\n",
        "\n",
        "    for obj in root.findall('object'):\n",
        "        bndbox: ET.Element = obj.find('bndbox')\n",
        "        name = obj.find('name').text\n",
        "        xmin, xmax, ymin, ymax = [int(bndbox.find(x).text) for x in ['xmin', 'xmax', 'ymin', 'ymax']]\n",
        "        coords = [(x, y) for x in [xmin, xmax] for y in [ymin, ymax]]\n",
        "        Table.append([(name),(coords)])\n",
        "\n",
        "    # adding too csv\n",
        "    csv_writer.writerows(Table)\n",
        "\n",
        "    # close the csv file\n",
        "    xml_data_to_csv.close()      \n",
        "  \n",
        "    # close the .xml file\n",
        "    f.close()\n",
        "  except FileNotFoundError:\n",
        "    continue"
      ],
      "execution_count": null,
      "outputs": []
    }
  ]
}